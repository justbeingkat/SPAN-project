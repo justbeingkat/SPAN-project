{
 "cells": [
  {
   "cell_type": "code",
   "execution_count": 2,
   "id": "initial_id",
   "metadata": {
    "collapsed": true,
    "ExecuteTime": {
     "end_time": "2024-03-01T19:09:07.867807Z",
     "start_time": "2024-03-01T19:09:03.973986Z"
    }
   },
   "outputs": [],
   "source": [
    "import pandas as pd"
   ]
  },
  {
   "cell_type": "code",
   "outputs": [
    {
     "name": "stderr",
     "output_type": "stream",
     "text": [
      "/var/folders/kr/rsv11_61691b3zj3fmgk_84m0000gn/T/ipykernel_20485/3748328722.py:1: DtypeWarning: Columns (0) have mixed types. Specify dtype option on import or set low_memory=False.\n",
      "  data = pd.read_csv(\"en.openpetfoodfacts.org.products.csv\", sep='\\t', na_filter= False)\n"
     ]
    },
    {
     "data": {
      "text/plain": "                code                                                url  \\\n0      0000116043502  http://world-en.openpetfoodfacts.org/product/0...   \n1      0000338004206  http://world-en.openpetfoodfacts.org/product/0...   \n2             000425  http://world-en.openpetfoodfacts.org/product/0...   \n3              00083  http://world-en.openpetfoodfacts.org/product/0...   \n4      0011110025883  http://world-en.openpetfoodfacts.org/product/0...   \n...              ...                                                ...   \n10460  9900010000025  http://world-en.openpetfoodfacts.org/product/9...   \n10461  9900937467833  http://world-en.openpetfoodfacts.org/product/9...   \n10462  9950359211507  http://world-en.openpetfoodfacts.org/product/9...   \n10463  9993171011849  http://world-en.openpetfoodfacts.org/product/9...   \n10464  9998339557740  http://world-en.openpetfoodfacts.org/product/9...   \n\n                          creator   created_t      created_datetime  \\\n0      openfoodfacts-contributors  1645743351  2022-02-24T22:55:51Z   \n1      openfoodfacts-contributors  1683587714  2023-05-08T23:15:14Z   \n2      openfoodfacts-contributors  1529721849  2018-06-23T02:44:09Z   \n3      openfoodfacts-contributors  1552038185  2019-03-08T09:43:05Z   \n4                         kiliweb  1659556245  2022-08-03T19:50:45Z   \n...                           ...         ...                   ...   \n10460                     kiliweb  1576403358  2019-12-15T09:49:18Z   \n10461                    foodless  1642591975  2022-01-19T11:32:55Z   \n10462  openfoodfacts-contributors  1550058434  2019-02-13T11:47:14Z   \n10463                    foodless  1673167166  2023-01-08T08:39:26Z   \n10464  openfoodfacts-contributors  1552228143  2019-03-10T14:29:03Z   \n\n       last_modified_t last_modified_datetime  \\\n0           1668694474   2022-11-17T14:14:34Z   \n1           1683587714   2023-05-08T23:15:14Z   \n2           1529722059   2018-06-23T02:47:39Z   \n3           1684023210   2023-05-14T00:13:30Z   \n4           1706691690   2024-01-31T09:01:30Z   \n...                ...                    ...   \n10460       1577056107   2019-12-22T23:08:27Z   \n10461       1702042461   2023-12-08T13:34:21Z   \n10462       1690550733   2023-07-28T13:25:33Z   \n10463       1673173149   2023-01-08T10:19:09Z   \n10464       1552232198   2019-03-10T15:36:38Z   \n\n                           product_name generic_name quantity  ...  \\\n0                             Baka food                        ...   \n1                      ultra cat litter                20 lbs  ...   \n2                            Mini Adult                  2 kg  ...   \n3                                 Puppy                  6 kg  ...   \n4      Salmon and Sweet Potato Dog Food                        ...   \n...                                 ...          ...      ...  ...   \n10460                           Croquet                        ...   \n10461     Mega pack 40 pedigree pouches                        ...   \n10462                            purina                 1,5kg  ...   \n10463     Turtle food morningsun 120 gr                    10  ...   \n10464                     catisfactions                  60 g  ...   \n\n      carbon-footprint-from-meat-or-fish_100g nutrition-score-fr_100g  \\\n0                                                                       \n1                                                                       \n2                                                                       \n3                                                                       \n4                                                                       \n...                                       ...                     ...   \n10460                                                                   \n10461                                                                   \n10462                                                                   \n10463                                                                   \n10464                                                                   \n\n      nutrition-score-uk_100g glycemic-index_100g water-hardness_100g  \\\n0                                                                       \n1                                                                       \n2                                                                       \n3                                                                       \n4                                                                       \n...                       ...                 ...                 ...   \n10460                                                                   \n10461                                                                   \n10462                                                                   \n10463                                                                   \n10464                                                                   \n\n      choline_100g phylloquinone_100g beta-glucan_100g inositol_100g  \\\n0                                                                      \n1                                                                      \n2                                                                      \n3                                                                      \n4                                                                      \n...            ...                ...              ...           ...   \n10460                                                                  \n10461                                                                  \n10462                                                                  \n10463                                                                  \n10464                                                                  \n\n      carnitine_100g  \n0                     \n1                     \n2                     \n3                     \n4                     \n...              ...  \n10460                 \n10461                 \n10462                 \n10463                 \n10464                 \n\n[10465 rows x 179 columns]",
      "text/html": "<div>\n<style scoped>\n    .dataframe tbody tr th:only-of-type {\n        vertical-align: middle;\n    }\n\n    .dataframe tbody tr th {\n        vertical-align: top;\n    }\n\n    .dataframe thead th {\n        text-align: right;\n    }\n</style>\n<table border=\"1\" class=\"dataframe\">\n  <thead>\n    <tr style=\"text-align: right;\">\n      <th></th>\n      <th>code</th>\n      <th>url</th>\n      <th>creator</th>\n      <th>created_t</th>\n      <th>created_datetime</th>\n      <th>last_modified_t</th>\n      <th>last_modified_datetime</th>\n      <th>product_name</th>\n      <th>generic_name</th>\n      <th>quantity</th>\n      <th>...</th>\n      <th>carbon-footprint-from-meat-or-fish_100g</th>\n      <th>nutrition-score-fr_100g</th>\n      <th>nutrition-score-uk_100g</th>\n      <th>glycemic-index_100g</th>\n      <th>water-hardness_100g</th>\n      <th>choline_100g</th>\n      <th>phylloquinone_100g</th>\n      <th>beta-glucan_100g</th>\n      <th>inositol_100g</th>\n      <th>carnitine_100g</th>\n    </tr>\n  </thead>\n  <tbody>\n    <tr>\n      <th>0</th>\n      <td>0000116043502</td>\n      <td>http://world-en.openpetfoodfacts.org/product/0...</td>\n      <td>openfoodfacts-contributors</td>\n      <td>1645743351</td>\n      <td>2022-02-24T22:55:51Z</td>\n      <td>1668694474</td>\n      <td>2022-11-17T14:14:34Z</td>\n      <td>Baka food</td>\n      <td></td>\n      <td></td>\n      <td>...</td>\n      <td></td>\n      <td></td>\n      <td></td>\n      <td></td>\n      <td></td>\n      <td></td>\n      <td></td>\n      <td></td>\n      <td></td>\n      <td></td>\n    </tr>\n    <tr>\n      <th>1</th>\n      <td>0000338004206</td>\n      <td>http://world-en.openpetfoodfacts.org/product/0...</td>\n      <td>openfoodfacts-contributors</td>\n      <td>1683587714</td>\n      <td>2023-05-08T23:15:14Z</td>\n      <td>1683587714</td>\n      <td>2023-05-08T23:15:14Z</td>\n      <td>ultra cat litter</td>\n      <td></td>\n      <td>20 lbs</td>\n      <td>...</td>\n      <td></td>\n      <td></td>\n      <td></td>\n      <td></td>\n      <td></td>\n      <td></td>\n      <td></td>\n      <td></td>\n      <td></td>\n      <td></td>\n    </tr>\n    <tr>\n      <th>2</th>\n      <td>000425</td>\n      <td>http://world-en.openpetfoodfacts.org/product/0...</td>\n      <td>openfoodfacts-contributors</td>\n      <td>1529721849</td>\n      <td>2018-06-23T02:44:09Z</td>\n      <td>1529722059</td>\n      <td>2018-06-23T02:47:39Z</td>\n      <td>Mini Adult</td>\n      <td></td>\n      <td>2 kg</td>\n      <td>...</td>\n      <td></td>\n      <td></td>\n      <td></td>\n      <td></td>\n      <td></td>\n      <td></td>\n      <td></td>\n      <td></td>\n      <td></td>\n      <td></td>\n    </tr>\n    <tr>\n      <th>3</th>\n      <td>00083</td>\n      <td>http://world-en.openpetfoodfacts.org/product/0...</td>\n      <td>openfoodfacts-contributors</td>\n      <td>1552038185</td>\n      <td>2019-03-08T09:43:05Z</td>\n      <td>1684023210</td>\n      <td>2023-05-14T00:13:30Z</td>\n      <td>Puppy</td>\n      <td></td>\n      <td>6 kg</td>\n      <td>...</td>\n      <td></td>\n      <td></td>\n      <td></td>\n      <td></td>\n      <td></td>\n      <td></td>\n      <td></td>\n      <td></td>\n      <td></td>\n      <td></td>\n    </tr>\n    <tr>\n      <th>4</th>\n      <td>0011110025883</td>\n      <td>http://world-en.openpetfoodfacts.org/product/0...</td>\n      <td>kiliweb</td>\n      <td>1659556245</td>\n      <td>2022-08-03T19:50:45Z</td>\n      <td>1706691690</td>\n      <td>2024-01-31T09:01:30Z</td>\n      <td>Salmon and Sweet Potato Dog Food</td>\n      <td></td>\n      <td></td>\n      <td>...</td>\n      <td></td>\n      <td></td>\n      <td></td>\n      <td></td>\n      <td></td>\n      <td></td>\n      <td></td>\n      <td></td>\n      <td></td>\n      <td></td>\n    </tr>\n    <tr>\n      <th>...</th>\n      <td>...</td>\n      <td>...</td>\n      <td>...</td>\n      <td>...</td>\n      <td>...</td>\n      <td>...</td>\n      <td>...</td>\n      <td>...</td>\n      <td>...</td>\n      <td>...</td>\n      <td>...</td>\n      <td>...</td>\n      <td>...</td>\n      <td>...</td>\n      <td>...</td>\n      <td>...</td>\n      <td>...</td>\n      <td>...</td>\n      <td>...</td>\n      <td>...</td>\n      <td>...</td>\n    </tr>\n    <tr>\n      <th>10460</th>\n      <td>9900010000025</td>\n      <td>http://world-en.openpetfoodfacts.org/product/9...</td>\n      <td>kiliweb</td>\n      <td>1576403358</td>\n      <td>2019-12-15T09:49:18Z</td>\n      <td>1577056107</td>\n      <td>2019-12-22T23:08:27Z</td>\n      <td>Croquet</td>\n      <td></td>\n      <td></td>\n      <td>...</td>\n      <td></td>\n      <td></td>\n      <td></td>\n      <td></td>\n      <td></td>\n      <td></td>\n      <td></td>\n      <td></td>\n      <td></td>\n      <td></td>\n    </tr>\n    <tr>\n      <th>10461</th>\n      <td>9900937467833</td>\n      <td>http://world-en.openpetfoodfacts.org/product/9...</td>\n      <td>foodless</td>\n      <td>1642591975</td>\n      <td>2022-01-19T11:32:55Z</td>\n      <td>1702042461</td>\n      <td>2023-12-08T13:34:21Z</td>\n      <td>Mega pack 40 pedigree pouches</td>\n      <td></td>\n      <td></td>\n      <td>...</td>\n      <td></td>\n      <td></td>\n      <td></td>\n      <td></td>\n      <td></td>\n      <td></td>\n      <td></td>\n      <td></td>\n      <td></td>\n      <td></td>\n    </tr>\n    <tr>\n      <th>10462</th>\n      <td>9950359211507</td>\n      <td>http://world-en.openpetfoodfacts.org/product/9...</td>\n      <td>openfoodfacts-contributors</td>\n      <td>1550058434</td>\n      <td>2019-02-13T11:47:14Z</td>\n      <td>1690550733</td>\n      <td>2023-07-28T13:25:33Z</td>\n      <td>purina</td>\n      <td></td>\n      <td>1,5kg</td>\n      <td>...</td>\n      <td></td>\n      <td></td>\n      <td></td>\n      <td></td>\n      <td></td>\n      <td></td>\n      <td></td>\n      <td></td>\n      <td></td>\n      <td></td>\n    </tr>\n    <tr>\n      <th>10463</th>\n      <td>9993171011849</td>\n      <td>http://world-en.openpetfoodfacts.org/product/9...</td>\n      <td>foodless</td>\n      <td>1673167166</td>\n      <td>2023-01-08T08:39:26Z</td>\n      <td>1673173149</td>\n      <td>2023-01-08T10:19:09Z</td>\n      <td>Turtle food morningsun 120 gr</td>\n      <td></td>\n      <td>10</td>\n      <td>...</td>\n      <td></td>\n      <td></td>\n      <td></td>\n      <td></td>\n      <td></td>\n      <td></td>\n      <td></td>\n      <td></td>\n      <td></td>\n      <td></td>\n    </tr>\n    <tr>\n      <th>10464</th>\n      <td>9998339557740</td>\n      <td>http://world-en.openpetfoodfacts.org/product/9...</td>\n      <td>openfoodfacts-contributors</td>\n      <td>1552228143</td>\n      <td>2019-03-10T14:29:03Z</td>\n      <td>1552232198</td>\n      <td>2019-03-10T15:36:38Z</td>\n      <td>catisfactions</td>\n      <td></td>\n      <td>60 g</td>\n      <td>...</td>\n      <td></td>\n      <td></td>\n      <td></td>\n      <td></td>\n      <td></td>\n      <td></td>\n      <td></td>\n      <td></td>\n      <td></td>\n      <td></td>\n    </tr>\n  </tbody>\n</table>\n<p>10465 rows × 179 columns</p>\n</div>"
     },
     "execution_count": 3,
     "metadata": {},
     "output_type": "execute_result"
    }
   ],
   "source": [
    "data = pd.read_csv(\"en.openpetfoodfacts.org.products.csv\", sep='\\t', na_filter= False)\n",
    "data"
   ],
   "metadata": {
    "collapsed": false,
    "ExecuteTime": {
     "end_time": "2024-03-01T19:09:08.930599Z",
     "start_time": "2024-03-01T19:09:07.870142Z"
    }
   },
   "id": "733492dab7201d0",
   "execution_count": 3
  },
  {
   "cell_type": "code",
   "outputs": [
    {
     "data": {
      "text/plain": "                code                      product_name quantity  \\\n0      0000116043502                         Baka food            \n1      0000338004206                  ultra cat litter   20 lbs   \n2             000425                        Mini Adult     2 kg   \n3              00083                             Puppy     6 kg   \n4      0011110025883  Salmon and Sweet Potato Dog Food            \n...              ...                               ...      ...   \n10460  9900010000025                           Croquet            \n10461  9900937467833     Mega pack 40 pedigree pouches            \n10462  9950359211507                            purina    1,5kg   \n10463  9993171011849     Turtle food morningsun 120 gr       10   \n10464  9998339557740                     catisfactions     60 g   \n\n              brands             categories  \\\n0                                             \n1          Dr elseys                      0   \n2        Royal Canin                          \n3             Orijen  Croquettes pour chien   \n4                                             \n...              ...                    ...   \n10460                                         \n10461                                         \n10462         purina                          \n10463                                         \n10464  catisfactions                          \n\n                                         categories_tags  \\\n0                                                          \n1                                                   en:0   \n2                                                          \n3      en:pet-food,en:dog-food,en:dry-dog-food,en:dry...   \n4                                                          \n...                                                  ...   \n10460                                                      \n10461                                                      \n10462                                                      \n10463                                                      \n10464                                                      \n\n                                     categories_en    labels  labels_tags  \\\n0                                                                           \n1                                                0         0   en:without   \n2                                                                           \n3      Pet food,Dog food,Dry Dog Food,Dry pet food  No grain  fr:no-grain   \n4                                                                           \n...                                            ...       ...          ...   \n10460                                                                       \n10461                                                                       \n10462                                                                       \n10463                                                                       \n10464                                                                       \n\n         labels_en  ... carbon-footprint-from-meat-or-fish_100g  \\\n0                   ...                                           \n1          Without  ...                                           \n2                   ...                                           \n3      fr:no-grain  ...                                           \n4                   ...                                           \n...            ...  ...                                     ...   \n10460               ...                                           \n10461               ...                                           \n10462               ...                                           \n10463               ...                                           \n10464               ...                                           \n\n      nutrition-score-fr_100g nutrition-score-uk_100g glycemic-index_100g  \\\n0                                                                           \n1                                                                           \n2                                                                           \n3                                                                           \n4                                                                           \n...                       ...                     ...                 ...   \n10460                                                                       \n10461                                                                       \n10462                                                                       \n10463                                                                       \n10464                                                                       \n\n      water-hardness_100g choline_100g phylloquinone_100g beta-glucan_100g  \\\n0                                                                            \n1                                                                            \n2                                                                            \n3                                                                            \n4                                                                            \n...                   ...          ...                ...              ...   \n10460                                                                        \n10461                                                                        \n10462                                                                        \n10463                                                                        \n10464                                                                        \n\n      inositol_100g carnitine_100g  \n0                                   \n1                                   \n2                                   \n3                                   \n4                                   \n...             ...            ...  \n10460                               \n10461                               \n10462                               \n10463                               \n10464                               \n\n[10465 rows x 150 columns]",
      "text/html": "<div>\n<style scoped>\n    .dataframe tbody tr th:only-of-type {\n        vertical-align: middle;\n    }\n\n    .dataframe tbody tr th {\n        vertical-align: top;\n    }\n\n    .dataframe thead th {\n        text-align: right;\n    }\n</style>\n<table border=\"1\" class=\"dataframe\">\n  <thead>\n    <tr style=\"text-align: right;\">\n      <th></th>\n      <th>code</th>\n      <th>product_name</th>\n      <th>quantity</th>\n      <th>brands</th>\n      <th>categories</th>\n      <th>categories_tags</th>\n      <th>categories_en</th>\n      <th>labels</th>\n      <th>labels_tags</th>\n      <th>labels_en</th>\n      <th>...</th>\n      <th>carbon-footprint-from-meat-or-fish_100g</th>\n      <th>nutrition-score-fr_100g</th>\n      <th>nutrition-score-uk_100g</th>\n      <th>glycemic-index_100g</th>\n      <th>water-hardness_100g</th>\n      <th>choline_100g</th>\n      <th>phylloquinone_100g</th>\n      <th>beta-glucan_100g</th>\n      <th>inositol_100g</th>\n      <th>carnitine_100g</th>\n    </tr>\n  </thead>\n  <tbody>\n    <tr>\n      <th>0</th>\n      <td>0000116043502</td>\n      <td>Baka food</td>\n      <td></td>\n      <td></td>\n      <td></td>\n      <td></td>\n      <td></td>\n      <td></td>\n      <td></td>\n      <td></td>\n      <td>...</td>\n      <td></td>\n      <td></td>\n      <td></td>\n      <td></td>\n      <td></td>\n      <td></td>\n      <td></td>\n      <td></td>\n      <td></td>\n      <td></td>\n    </tr>\n    <tr>\n      <th>1</th>\n      <td>0000338004206</td>\n      <td>ultra cat litter</td>\n      <td>20 lbs</td>\n      <td>Dr elseys</td>\n      <td>0</td>\n      <td>en:0</td>\n      <td>0</td>\n      <td>0</td>\n      <td>en:without</td>\n      <td>Without</td>\n      <td>...</td>\n      <td></td>\n      <td></td>\n      <td></td>\n      <td></td>\n      <td></td>\n      <td></td>\n      <td></td>\n      <td></td>\n      <td></td>\n      <td></td>\n    </tr>\n    <tr>\n      <th>2</th>\n      <td>000425</td>\n      <td>Mini Adult</td>\n      <td>2 kg</td>\n      <td>Royal Canin</td>\n      <td></td>\n      <td></td>\n      <td></td>\n      <td></td>\n      <td></td>\n      <td></td>\n      <td>...</td>\n      <td></td>\n      <td></td>\n      <td></td>\n      <td></td>\n      <td></td>\n      <td></td>\n      <td></td>\n      <td></td>\n      <td></td>\n      <td></td>\n    </tr>\n    <tr>\n      <th>3</th>\n      <td>00083</td>\n      <td>Puppy</td>\n      <td>6 kg</td>\n      <td>Orijen</td>\n      <td>Croquettes pour chien</td>\n      <td>en:pet-food,en:dog-food,en:dry-dog-food,en:dry...</td>\n      <td>Pet food,Dog food,Dry Dog Food,Dry pet food</td>\n      <td>No grain</td>\n      <td>fr:no-grain</td>\n      <td>fr:no-grain</td>\n      <td>...</td>\n      <td></td>\n      <td></td>\n      <td></td>\n      <td></td>\n      <td></td>\n      <td></td>\n      <td></td>\n      <td></td>\n      <td></td>\n      <td></td>\n    </tr>\n    <tr>\n      <th>4</th>\n      <td>0011110025883</td>\n      <td>Salmon and Sweet Potato Dog Food</td>\n      <td></td>\n      <td></td>\n      <td></td>\n      <td></td>\n      <td></td>\n      <td></td>\n      <td></td>\n      <td></td>\n      <td>...</td>\n      <td></td>\n      <td></td>\n      <td></td>\n      <td></td>\n      <td></td>\n      <td></td>\n      <td></td>\n      <td></td>\n      <td></td>\n      <td></td>\n    </tr>\n    <tr>\n      <th>...</th>\n      <td>...</td>\n      <td>...</td>\n      <td>...</td>\n      <td>...</td>\n      <td>...</td>\n      <td>...</td>\n      <td>...</td>\n      <td>...</td>\n      <td>...</td>\n      <td>...</td>\n      <td>...</td>\n      <td>...</td>\n      <td>...</td>\n      <td>...</td>\n      <td>...</td>\n      <td>...</td>\n      <td>...</td>\n      <td>...</td>\n      <td>...</td>\n      <td>...</td>\n      <td>...</td>\n    </tr>\n    <tr>\n      <th>10460</th>\n      <td>9900010000025</td>\n      <td>Croquet</td>\n      <td></td>\n      <td></td>\n      <td></td>\n      <td></td>\n      <td></td>\n      <td></td>\n      <td></td>\n      <td></td>\n      <td>...</td>\n      <td></td>\n      <td></td>\n      <td></td>\n      <td></td>\n      <td></td>\n      <td></td>\n      <td></td>\n      <td></td>\n      <td></td>\n      <td></td>\n    </tr>\n    <tr>\n      <th>10461</th>\n      <td>9900937467833</td>\n      <td>Mega pack 40 pedigree pouches</td>\n      <td></td>\n      <td></td>\n      <td></td>\n      <td></td>\n      <td></td>\n      <td></td>\n      <td></td>\n      <td></td>\n      <td>...</td>\n      <td></td>\n      <td></td>\n      <td></td>\n      <td></td>\n      <td></td>\n      <td></td>\n      <td></td>\n      <td></td>\n      <td></td>\n      <td></td>\n    </tr>\n    <tr>\n      <th>10462</th>\n      <td>9950359211507</td>\n      <td>purina</td>\n      <td>1,5kg</td>\n      <td>purina</td>\n      <td></td>\n      <td></td>\n      <td></td>\n      <td></td>\n      <td></td>\n      <td></td>\n      <td>...</td>\n      <td></td>\n      <td></td>\n      <td></td>\n      <td></td>\n      <td></td>\n      <td></td>\n      <td></td>\n      <td></td>\n      <td></td>\n      <td></td>\n    </tr>\n    <tr>\n      <th>10463</th>\n      <td>9993171011849</td>\n      <td>Turtle food morningsun 120 gr</td>\n      <td>10</td>\n      <td></td>\n      <td></td>\n      <td></td>\n      <td></td>\n      <td></td>\n      <td></td>\n      <td></td>\n      <td>...</td>\n      <td></td>\n      <td></td>\n      <td></td>\n      <td></td>\n      <td></td>\n      <td></td>\n      <td></td>\n      <td></td>\n      <td></td>\n      <td></td>\n    </tr>\n    <tr>\n      <th>10464</th>\n      <td>9998339557740</td>\n      <td>catisfactions</td>\n      <td>60 g</td>\n      <td>catisfactions</td>\n      <td></td>\n      <td></td>\n      <td></td>\n      <td></td>\n      <td></td>\n      <td></td>\n      <td>...</td>\n      <td></td>\n      <td></td>\n      <td></td>\n      <td></td>\n      <td></td>\n      <td></td>\n      <td></td>\n      <td></td>\n      <td></td>\n      <td></td>\n    </tr>\n  </tbody>\n</table>\n<p>10465 rows × 150 columns</p>\n</div>"
     },
     "execution_count": 36,
     "metadata": {},
     "output_type": "execute_result"
    }
   ],
   "source": [
    "data_columns_cleaned = data.drop([\"generic_name\", \"brands_tags\",\"energy-kj_100g\",\"energy_100g\",\"url\", \"creator\", \"created_t\", \"created_datetime\", \"last_modified_t\", \"last_modified_datetime\", \"packaging\", \"packaging_tags\", \"origins\", \"origins_tags\", \"manufacturing_places\", \"manufacturing_places_tags\", \"emb_codes\", \"emb_codes_tags\", \"first_packaging_code_geo\", \"cities\", \"cities_tags\", \"purchase_places\", \"stores\", \"countries\", \"countries_tags\", \"countries_en\", \"states\", \"states_tags\", \"states_en\"], axis=1)\n",
    "data_columns_cleaned"
   ],
   "metadata": {
    "collapsed": false,
    "ExecuteTime": {
     "end_time": "2024-03-01T19:58:44.968049Z",
     "start_time": "2024-03-01T19:58:44.928814Z"
    }
   },
   "id": "d05461f66fe6df49",
   "execution_count": 36
  },
  {
   "cell_type": "code",
   "outputs": [
    {
     "data": {
      "text/plain": "energy-kcal_100g        8.365201\nenergy-from-fat_100g            \nfat_100g                      24\nsaturated-fat_100g            13\n-butyric-acid_100g              \n                          ...   \ncholine_100g                    \nphylloquinone_100g              \nbeta-glucan_100g                \ninositol_100g                   \ncarnitine_100g                  \nName: 0, Length: 109, dtype: object"
     },
     "execution_count": 58,
     "metadata": {},
     "output_type": "execute_result"
    }
   ],
   "source": [
    "# Replace 'your_row_index' with the actual row index you want to extract\n",
    "row_index = 0\n",
    "\n",
    "# Extract nutrient values for the specified row\n",
    "nutrient_values = data_columns_cleaned.loc[row_index, 'energy-kcal_100g':]\n",
    "\n",
    "# Display the extracted nutrient values\n",
    "nutrient_values"
   ],
   "metadata": {
    "collapsed": false,
    "ExecuteTime": {
     "end_time": "2024-03-01T20:07:41.849831Z",
     "start_time": "2024-03-01T20:07:41.828908Z"
    }
   },
   "id": "bc984c7b0d6d9f07",
   "execution_count": 58
  },
  {
   "cell_type": "code",
   "outputs": [
    {
     "name": "stdout",
     "output_type": "stream",
     "text": [
      "Caloric Percentage: 0.8805474736842105\n",
      "Nutrients Present in the Food: ['fat_100g', 'carbohydrates_100g', 'fiber_100g', 'proteins_100g']\n",
      "Nutritional Score (% of Filled Nutritional Needs): 19.319088571681885\n"
     ]
    }
   ],
   "source": [
    "def calculate_nutritional_score(nutrient_values, max_calories=950):\n",
    "    total_score = 0\n",
    "    total_possible_score = 0\n",
    "    total_calories = nutrient_values.get(\"energy-kcal_100g\", 0)\n",
    "\n",
    "    # Define recommended values for each nutrient (converted to grams for consistency)\n",
    "    recommended_values = {\n",
    "        \"vitamin-a_100g\": 0.0004, \n",
    "        \"vitamin-d_100g\": 0.0000038,  \n",
    "        \"vitamin-e_100g\": 0.009,\n",
    "        \"vitamin-k_100g\": 0.00000041,\n",
    "        \"vitamin-b1_100g\": 0.00000056, \n",
    "        \"vitamin-b2_100g\": 0.0000013, \n",
    "        \"vitamin-b6_100g\": 0.0000004,  \n",
    "        \"vitamin-b3_100g\": 0.000004,\n",
    "        \"pantothenic-acid_100g\": 0.000004, \n",
    "        \"vitamin-b12_100g\": 0.000000009, \n",
    "        \"folates_100g\": 0.000000068, \n",
    "        \"choline_100g\": 0.425,\n",
    "        \"calcium_100g\": 0.001, \n",
    "        \"phosphorus_100g\": 0.00075, \n",
    "        \"magnesium_100g\": 0.00015, \n",
    "        \"proteins_100g\": 26,\n",
    "        \"fat_100g\": 15,\n",
    "        \"sodium_100g\": 0.0002,\n",
    "        \"potassium_100g\": 0.001,\n",
    "        \"chloride_100g\": 0.0003, \n",
    "        \"iron_100g\": 0.0075,\n",
    "        \"copper_100g\": 0.0015, \n",
    "        \"zinc_100g\": 0.015, \n",
    "        \"manganese_100g\": 0.0012,\n",
    "        \"selenium_100g\": 0.00000009,\n",
    "        \"iodine_100g\": 0.00000022,  \n",
    "        \"fiber_100g\": 11,\n",
    "        \"carbohydrates_100g\":125,\n",
    "    }\n",
    "\n",
    "    # Calculate the caloric percentage\n",
    "    caloric_percentage = (float(total_calories) / max_calories) * 100 if max_calories > 0 else 0\n",
    "    print(\"Caloric Percentage:\", caloric_percentage)\n",
    "\n",
    "    # Nutrients present in the food\n",
    "    present_nutrients = []\n",
    "\n",
    "    # Iterate through each nutrient\n",
    "    for nutrient, value in nutrient_values.items():\n",
    "        # Check if the nutrient has a recommended value\n",
    "        if nutrient in recommended_values:\n",
    "            # Check if the value is not missing\n",
    "            if value != \"\":\n",
    "                # Calculate the percentage of recommended value\n",
    "                percentage = (float(value) / float(recommended_values[nutrient])) * 100\n",
    "\n",
    "                # Update the total_possible_score based on the percentage\n",
    "                total_possible_score += percentage\n",
    "\n",
    "                # Check for penalties if the value exceeds the recommended value\n",
    "                if percentage > 100:\n",
    "                    penalty_percentage = min(percentage - 100, 50)  # Maximum penalty of 50%\n",
    "                    total_score -= penalty_percentage\n",
    "\n",
    "                # Update the total_score based on the percentage\n",
    "                total_score += min(percentage, 100)  # Cap the score at 100%\n",
    "\n",
    "                # Add the nutrient to the list of present nutrients\n",
    "                present_nutrients.append(nutrient)\n",
    "\n",
    "    # Calculate the final score as a percentage of filled nutritional needs\n",
    "    final_score = (total_score / total_possible_score) * 100 if total_possible_score > 0 else 0\n",
    "\n",
    "    print(\"Nutrients Present in the Food:\", present_nutrients)\n",
    "    return final_score\n",
    "\n",
    "# Calculate the nutritional score\n",
    "score = calculate_nutritional_score(nutrient_values, max_calories)\n",
    "\n",
    "print(\"Nutritional Score (% of Filled Nutritional Needs):\", score)"
   ],
   "metadata": {
    "collapsed": false,
    "ExecuteTime": {
     "end_time": "2024-03-01T20:30:29.376119Z",
     "start_time": "2024-03-01T20:30:29.349455Z"
    }
   },
   "id": "d639a271f78b307d",
   "execution_count": 61
  }
 ],
 "metadata": {
  "kernelspec": {
   "display_name": "Python 3",
   "language": "python",
   "name": "python3"
  },
  "language_info": {
   "codemirror_mode": {
    "name": "ipython",
    "version": 2
   },
   "file_extension": ".py",
   "mimetype": "text/x-python",
   "name": "python",
   "nbconvert_exporter": "python",
   "pygments_lexer": "ipython2",
   "version": "2.7.6"
  }
 },
 "nbformat": 4,
 "nbformat_minor": 5
}
