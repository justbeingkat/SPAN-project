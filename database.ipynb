{
 "cells": [
  {
   "cell_type": "code",
   "execution_count": 2,
   "id": "initial_id",
   "metadata": {
    "collapsed": true,
    "ExecuteTime": {
     "end_time": "2024-03-28T16:49:24.742708Z",
     "start_time": "2024-03-28T16:49:23.609628Z"
    }
   },
   "outputs": [],
   "source": [
    "import pandas as pd"
   ]
  },
  {
   "cell_type": "code",
   "outputs": [
    {
     "data": {
      "text/plain": "                code                                                url  \\\n0      0000116043502  http://world-en.openpetfoodfacts.org/product/0...   \n1      0000338004206  http://world-en.openpetfoodfacts.org/product/0...   \n2             000425  http://world-en.openpetfoodfacts.org/product/0...   \n3              00083  http://world-en.openpetfoodfacts.org/product/0...   \n4      0011110025883  http://world-en.openpetfoodfacts.org/product/0...   \n...              ...                                                ...   \n10460  9900010000025  http://world-en.openpetfoodfacts.org/product/9...   \n10461  9900937467833  http://world-en.openpetfoodfacts.org/product/9...   \n10462  9950359211507  http://world-en.openpetfoodfacts.org/product/9...   \n10463  9993171011849  http://world-en.openpetfoodfacts.org/product/9...   \n10464  9998339557740  http://world-en.openpetfoodfacts.org/product/9...   \n\n                          creator   created_t      created_datetime  \\\n0      openfoodfacts-contributors  1645743351  2022-02-24T22:55:51Z   \n1      openfoodfacts-contributors  1683587714  2023-05-08T23:15:14Z   \n2      openfoodfacts-contributors  1529721849  2018-06-23T02:44:09Z   \n3      openfoodfacts-contributors  1552038185  2019-03-08T09:43:05Z   \n4                         kiliweb  1659556245  2022-08-03T19:50:45Z   \n...                           ...         ...                   ...   \n10460                     kiliweb  1576403358  2019-12-15T09:49:18Z   \n10461                    foodless  1642591975  2022-01-19T11:32:55Z   \n10462  openfoodfacts-contributors  1550058434  2019-02-13T11:47:14Z   \n10463                    foodless  1673167166  2023-01-08T08:39:26Z   \n10464  openfoodfacts-contributors  1552228143  2019-03-10T14:29:03Z   \n\n       last_modified_t last_modified_datetime  \\\n0           1668694474   2022-11-17T14:14:34Z   \n1           1683587714   2023-05-08T23:15:14Z   \n2           1529722059   2018-06-23T02:47:39Z   \n3           1684023210   2023-05-14T00:13:30Z   \n4           1706691690   2024-01-31T09:01:30Z   \n...                ...                    ...   \n10460       1577056107   2019-12-22T23:08:27Z   \n10461       1702042461   2023-12-08T13:34:21Z   \n10462       1690550733   2023-07-28T13:25:33Z   \n10463       1673173149   2023-01-08T10:19:09Z   \n10464       1552232198   2019-03-10T15:36:38Z   \n\n                           product_name generic_name quantity  ...  \\\n0                             Baka food                        ...   \n1                      ultra cat litter                20 lbs  ...   \n2                            Mini Adult                  2 kg  ...   \n3                                 Puppy                  6 kg  ...   \n4      Salmon and Sweet Potato Dog Food                        ...   \n...                                 ...          ...      ...  ...   \n10460                           Croquet                        ...   \n10461     Mega pack 40 pedigree pouches                        ...   \n10462                            purina                 1,5kg  ...   \n10463     Turtle food morningsun 120 gr                    10  ...   \n10464                     catisfactions                  60 g  ...   \n\n      carbon-footprint-from-meat-or-fish_100g nutrition-score-fr_100g  \\\n0                                                                       \n1                                                                       \n2                                                                       \n3                                                                       \n4                                                                       \n...                                       ...                     ...   \n10460                                                                   \n10461                                                                   \n10462                                                                   \n10463                                                                   \n10464                                                                   \n\n      nutrition-score-uk_100g glycemic-index_100g water-hardness_100g  \\\n0                                                                       \n1                                                                       \n2                                                                       \n3                                                                       \n4                                                                       \n...                       ...                 ...                 ...   \n10460                                                                   \n10461                                                                   \n10462                                                                   \n10463                                                                   \n10464                                                                   \n\n      choline_100g phylloquinone_100g beta-glucan_100g inositol_100g  \\\n0                                                                      \n1                                                                      \n2                                                                      \n3                                                                      \n4                                                                      \n...            ...                ...              ...           ...   \n10460                                                                  \n10461                                                                  \n10462                                                                  \n10463                                                                  \n10464                                                                  \n\n      carnitine_100g  \n0                     \n1                     \n2                     \n3                     \n4                     \n...              ...  \n10460                 \n10461                 \n10462                 \n10463                 \n10464                 \n\n[10465 rows x 179 columns]",
      "text/html": "<div>\n<style scoped>\n    .dataframe tbody tr th:only-of-type {\n        vertical-align: middle;\n    }\n\n    .dataframe tbody tr th {\n        vertical-align: top;\n    }\n\n    .dataframe thead th {\n        text-align: right;\n    }\n</style>\n<table border=\"1\" class=\"dataframe\">\n  <thead>\n    <tr style=\"text-align: right;\">\n      <th></th>\n      <th>code</th>\n      <th>url</th>\n      <th>creator</th>\n      <th>created_t</th>\n      <th>created_datetime</th>\n      <th>last_modified_t</th>\n      <th>last_modified_datetime</th>\n      <th>product_name</th>\n      <th>generic_name</th>\n      <th>quantity</th>\n      <th>...</th>\n      <th>carbon-footprint-from-meat-or-fish_100g</th>\n      <th>nutrition-score-fr_100g</th>\n      <th>nutrition-score-uk_100g</th>\n      <th>glycemic-index_100g</th>\n      <th>water-hardness_100g</th>\n      <th>choline_100g</th>\n      <th>phylloquinone_100g</th>\n      <th>beta-glucan_100g</th>\n      <th>inositol_100g</th>\n      <th>carnitine_100g</th>\n    </tr>\n  </thead>\n  <tbody>\n    <tr>\n      <th>0</th>\n      <td>0000116043502</td>\n      <td>http://world-en.openpetfoodfacts.org/product/0...</td>\n      <td>openfoodfacts-contributors</td>\n      <td>1645743351</td>\n      <td>2022-02-24T22:55:51Z</td>\n      <td>1668694474</td>\n      <td>2022-11-17T14:14:34Z</td>\n      <td>Baka food</td>\n      <td></td>\n      <td></td>\n      <td>...</td>\n      <td></td>\n      <td></td>\n      <td></td>\n      <td></td>\n      <td></td>\n      <td></td>\n      <td></td>\n      <td></td>\n      <td></td>\n      <td></td>\n    </tr>\n    <tr>\n      <th>1</th>\n      <td>0000338004206</td>\n      <td>http://world-en.openpetfoodfacts.org/product/0...</td>\n      <td>openfoodfacts-contributors</td>\n      <td>1683587714</td>\n      <td>2023-05-08T23:15:14Z</td>\n      <td>1683587714</td>\n      <td>2023-05-08T23:15:14Z</td>\n      <td>ultra cat litter</td>\n      <td></td>\n      <td>20 lbs</td>\n      <td>...</td>\n      <td></td>\n      <td></td>\n      <td></td>\n      <td></td>\n      <td></td>\n      <td></td>\n      <td></td>\n      <td></td>\n      <td></td>\n      <td></td>\n    </tr>\n    <tr>\n      <th>2</th>\n      <td>000425</td>\n      <td>http://world-en.openpetfoodfacts.org/product/0...</td>\n      <td>openfoodfacts-contributors</td>\n      <td>1529721849</td>\n      <td>2018-06-23T02:44:09Z</td>\n      <td>1529722059</td>\n      <td>2018-06-23T02:47:39Z</td>\n      <td>Mini Adult</td>\n      <td></td>\n      <td>2 kg</td>\n      <td>...</td>\n      <td></td>\n      <td></td>\n      <td></td>\n      <td></td>\n      <td></td>\n      <td></td>\n      <td></td>\n      <td></td>\n      <td></td>\n      <td></td>\n    </tr>\n    <tr>\n      <th>3</th>\n      <td>00083</td>\n      <td>http://world-en.openpetfoodfacts.org/product/0...</td>\n      <td>openfoodfacts-contributors</td>\n      <td>1552038185</td>\n      <td>2019-03-08T09:43:05Z</td>\n      <td>1684023210</td>\n      <td>2023-05-14T00:13:30Z</td>\n      <td>Puppy</td>\n      <td></td>\n      <td>6 kg</td>\n      <td>...</td>\n      <td></td>\n      <td></td>\n      <td></td>\n      <td></td>\n      <td></td>\n      <td></td>\n      <td></td>\n      <td></td>\n      <td></td>\n      <td></td>\n    </tr>\n    <tr>\n      <th>4</th>\n      <td>0011110025883</td>\n      <td>http://world-en.openpetfoodfacts.org/product/0...</td>\n      <td>kiliweb</td>\n      <td>1659556245</td>\n      <td>2022-08-03T19:50:45Z</td>\n      <td>1706691690</td>\n      <td>2024-01-31T09:01:30Z</td>\n      <td>Salmon and Sweet Potato Dog Food</td>\n      <td></td>\n      <td></td>\n      <td>...</td>\n      <td></td>\n      <td></td>\n      <td></td>\n      <td></td>\n      <td></td>\n      <td></td>\n      <td></td>\n      <td></td>\n      <td></td>\n      <td></td>\n    </tr>\n    <tr>\n      <th>...</th>\n      <td>...</td>\n      <td>...</td>\n      <td>...</td>\n      <td>...</td>\n      <td>...</td>\n      <td>...</td>\n      <td>...</td>\n      <td>...</td>\n      <td>...</td>\n      <td>...</td>\n      <td>...</td>\n      <td>...</td>\n      <td>...</td>\n      <td>...</td>\n      <td>...</td>\n      <td>...</td>\n      <td>...</td>\n      <td>...</td>\n      <td>...</td>\n      <td>...</td>\n      <td>...</td>\n    </tr>\n    <tr>\n      <th>10460</th>\n      <td>9900010000025</td>\n      <td>http://world-en.openpetfoodfacts.org/product/9...</td>\n      <td>kiliweb</td>\n      <td>1576403358</td>\n      <td>2019-12-15T09:49:18Z</td>\n      <td>1577056107</td>\n      <td>2019-12-22T23:08:27Z</td>\n      <td>Croquet</td>\n      <td></td>\n      <td></td>\n      <td>...</td>\n      <td></td>\n      <td></td>\n      <td></td>\n      <td></td>\n      <td></td>\n      <td></td>\n      <td></td>\n      <td></td>\n      <td></td>\n      <td></td>\n    </tr>\n    <tr>\n      <th>10461</th>\n      <td>9900937467833</td>\n      <td>http://world-en.openpetfoodfacts.org/product/9...</td>\n      <td>foodless</td>\n      <td>1642591975</td>\n      <td>2022-01-19T11:32:55Z</td>\n      <td>1702042461</td>\n      <td>2023-12-08T13:34:21Z</td>\n      <td>Mega pack 40 pedigree pouches</td>\n      <td></td>\n      <td></td>\n      <td>...</td>\n      <td></td>\n      <td></td>\n      <td></td>\n      <td></td>\n      <td></td>\n      <td></td>\n      <td></td>\n      <td></td>\n      <td></td>\n      <td></td>\n    </tr>\n    <tr>\n      <th>10462</th>\n      <td>9950359211507</td>\n      <td>http://world-en.openpetfoodfacts.org/product/9...</td>\n      <td>openfoodfacts-contributors</td>\n      <td>1550058434</td>\n      <td>2019-02-13T11:47:14Z</td>\n      <td>1690550733</td>\n      <td>2023-07-28T13:25:33Z</td>\n      <td>purina</td>\n      <td></td>\n      <td>1,5kg</td>\n      <td>...</td>\n      <td></td>\n      <td></td>\n      <td></td>\n      <td></td>\n      <td></td>\n      <td></td>\n      <td></td>\n      <td></td>\n      <td></td>\n      <td></td>\n    </tr>\n    <tr>\n      <th>10463</th>\n      <td>9993171011849</td>\n      <td>http://world-en.openpetfoodfacts.org/product/9...</td>\n      <td>foodless</td>\n      <td>1673167166</td>\n      <td>2023-01-08T08:39:26Z</td>\n      <td>1673173149</td>\n      <td>2023-01-08T10:19:09Z</td>\n      <td>Turtle food morningsun 120 gr</td>\n      <td></td>\n      <td>10</td>\n      <td>...</td>\n      <td></td>\n      <td></td>\n      <td></td>\n      <td></td>\n      <td></td>\n      <td></td>\n      <td></td>\n      <td></td>\n      <td></td>\n      <td></td>\n    </tr>\n    <tr>\n      <th>10464</th>\n      <td>9998339557740</td>\n      <td>http://world-en.openpetfoodfacts.org/product/9...</td>\n      <td>openfoodfacts-contributors</td>\n      <td>1552228143</td>\n      <td>2019-03-10T14:29:03Z</td>\n      <td>1552232198</td>\n      <td>2019-03-10T15:36:38Z</td>\n      <td>catisfactions</td>\n      <td></td>\n      <td>60 g</td>\n      <td>...</td>\n      <td></td>\n      <td></td>\n      <td></td>\n      <td></td>\n      <td></td>\n      <td></td>\n      <td></td>\n      <td></td>\n      <td></td>\n      <td></td>\n    </tr>\n  </tbody>\n</table>\n<p>10465 rows × 179 columns</p>\n</div>"
     },
     "execution_count": 19,
     "metadata": {},
     "output_type": "execute_result"
    }
   ],
   "source": [
    "data = pd.read_csv(\"en.openpetfoodfacts.org.products.csv\", sep='\\t', na_filter= False, low_memory=False)\n",
    "data"
   ],
   "metadata": {
    "collapsed": false,
    "ExecuteTime": {
     "end_time": "2024-03-28T16:52:41.077449Z",
     "start_time": "2024-03-28T16:52:40.110137Z"
    }
   },
   "id": "733492dab7201d0",
   "execution_count": 19
  },
  {
   "cell_type": "code",
   "outputs": [],
   "source": [
    "data_columns_cleaned = data.drop([\"generic_name\", \"brands_tags\",\"energy-kj_100g\",\"energy_100g\",\"url\", \"creator\", \"created_t\", \"created_datetime\", \"last_modified_t\", \"last_modified_datetime\", \"packaging\", \"packaging_tags\", \"origins\", \"origins_tags\", \"manufacturing_places\", \"manufacturing_places_tags\", \"emb_codes\", \"emb_codes_tags\", \"first_packaging_code_geo\", \"cities\", \"cities_tags\", \"purchase_places\", \"stores\", \"countries\", \"countries_tags\", \"countries_en\", \"states\", \"states_tags\", \"states_en\"], axis=1)\n",
    "data_columns_cleaned.to_csv(\"cleaned_data.csv\",index=True)"
   ],
   "metadata": {
    "collapsed": false,
    "ExecuteTime": {
     "end_time": "2024-03-28T16:52:43.462250Z",
     "start_time": "2024-03-28T16:52:43.035874Z"
    }
   },
   "id": "d05461f66fe6df49",
   "execution_count": 20
  },
  {
   "cell_type": "code",
   "outputs": [
    {
     "data": {
      "text/plain": "          Collective Name         Product Toxic Dosis (mg/ kg per dog)  \\\n0              Allium SPP           Onion                  15000-30000   \n1                     NaN          Garlic                  15000-30000   \n2                     NaN            Leek                  15000-30000   \n3                     NaN          Chives                  15000-30000   \n4                     NaN         Ethanol                NOT SPECIFIED   \n5   Vitis Vinifera fruits          Grapes             0.5 grape per kg   \n6                     NaN         Raisins                          2.8   \n7                     NaN        Sultanas                          2.8   \n8                     NaN        Currants                          2.8   \n9                     NaN            Hops                NOT SPECIFIED   \n10                    NaN  Macadamia Nuts                          700   \n11        Methylxanthines        Caffeine                           20   \n12                    NaN      Cacao seed                           20   \n13                    NaN    Theophylline                           20   \n14                    NaN        Xylitol                           320   \n\n                                                Notes  \n0                                                 NaN  \n1                                                 NaN  \n2                                                 NaN  \n3                                                 NaN  \n4   Contained in rotten apples, sloe berries, sloe...  \n5                4-5 grapes for a dog weighing 8.2 kg  \n6                                                 NaN  \n7   Was not specified so assumed same dosus as rai...  \n8   Was not specified so assumed same dosus as rai...  \n9   Contained in resins, essential oils, phenolic ...  \n10  This was in one case, another case mentioned i...  \n11                                E.g. Coffee and tea  \n12  which is part of theobromine; mild: 20 mg/ kg;...  \n13                                 Used in human meds  \n14  Contained in sugar-free gum, candy, bread, coo...  ",
      "text/html": "<div>\n<style scoped>\n    .dataframe tbody tr th:only-of-type {\n        vertical-align: middle;\n    }\n\n    .dataframe tbody tr th {\n        vertical-align: top;\n    }\n\n    .dataframe thead th {\n        text-align: right;\n    }\n</style>\n<table border=\"1\" class=\"dataframe\">\n  <thead>\n    <tr style=\"text-align: right;\">\n      <th></th>\n      <th>Collective Name</th>\n      <th>Product</th>\n      <th>Toxic Dosis (mg/ kg per dog)</th>\n      <th>Notes</th>\n    </tr>\n  </thead>\n  <tbody>\n    <tr>\n      <th>0</th>\n      <td>Allium SPP</td>\n      <td>Onion</td>\n      <td>15000-30000</td>\n      <td>NaN</td>\n    </tr>\n    <tr>\n      <th>1</th>\n      <td>NaN</td>\n      <td>Garlic</td>\n      <td>15000-30000</td>\n      <td>NaN</td>\n    </tr>\n    <tr>\n      <th>2</th>\n      <td>NaN</td>\n      <td>Leek</td>\n      <td>15000-30000</td>\n      <td>NaN</td>\n    </tr>\n    <tr>\n      <th>3</th>\n      <td>NaN</td>\n      <td>Chives</td>\n      <td>15000-30000</td>\n      <td>NaN</td>\n    </tr>\n    <tr>\n      <th>4</th>\n      <td>NaN</td>\n      <td>Ethanol</td>\n      <td>NOT SPECIFIED</td>\n      <td>Contained in rotten apples, sloe berries, sloe...</td>\n    </tr>\n    <tr>\n      <th>5</th>\n      <td>Vitis Vinifera fruits</td>\n      <td>Grapes</td>\n      <td>0.5 grape per kg</td>\n      <td>4-5 grapes for a dog weighing 8.2 kg</td>\n    </tr>\n    <tr>\n      <th>6</th>\n      <td>NaN</td>\n      <td>Raisins</td>\n      <td>2.8</td>\n      <td>NaN</td>\n    </tr>\n    <tr>\n      <th>7</th>\n      <td>NaN</td>\n      <td>Sultanas</td>\n      <td>2.8</td>\n      <td>Was not specified so assumed same dosus as rai...</td>\n    </tr>\n    <tr>\n      <th>8</th>\n      <td>NaN</td>\n      <td>Currants</td>\n      <td>2.8</td>\n      <td>Was not specified so assumed same dosus as rai...</td>\n    </tr>\n    <tr>\n      <th>9</th>\n      <td>NaN</td>\n      <td>Hops</td>\n      <td>NOT SPECIFIED</td>\n      <td>Contained in resins, essential oils, phenolic ...</td>\n    </tr>\n    <tr>\n      <th>10</th>\n      <td>NaN</td>\n      <td>Macadamia Nuts</td>\n      <td>700</td>\n      <td>This was in one case, another case mentioned i...</td>\n    </tr>\n    <tr>\n      <th>11</th>\n      <td>Methylxanthines</td>\n      <td>Caffeine</td>\n      <td>20</td>\n      <td>E.g. Coffee and tea</td>\n    </tr>\n    <tr>\n      <th>12</th>\n      <td>NaN</td>\n      <td>Cacao seed</td>\n      <td>20</td>\n      <td>which is part of theobromine; mild: 20 mg/ kg;...</td>\n    </tr>\n    <tr>\n      <th>13</th>\n      <td>NaN</td>\n      <td>Theophylline</td>\n      <td>20</td>\n      <td>Used in human meds</td>\n    </tr>\n    <tr>\n      <th>14</th>\n      <td>NaN</td>\n      <td>Xylitol</td>\n      <td>320</td>\n      <td>Contained in sugar-free gum, candy, bread, coo...</td>\n    </tr>\n  </tbody>\n</table>\n</div>"
     },
     "execution_count": 21,
     "metadata": {},
     "output_type": "execute_result"
    }
   ],
   "source": [
    "allergens = pd.read_csv(\"Toxic Products for Dogs.csv\")\n",
    "allergens"
   ],
   "metadata": {
    "collapsed": false,
    "ExecuteTime": {
     "end_time": "2024-03-28T16:52:45.159724Z",
     "start_time": "2024-03-28T16:52:45.140886Z"
    }
   },
   "id": "37b287f51774d916",
   "execution_count": 21
  },
  {
   "cell_type": "code",
   "outputs": [],
   "source": [
    "allergens_names = allergens[\"Product\"]\n",
    "allergens_names.to_csv(\"allergens.csv\", index=True)"
   ],
   "metadata": {
    "collapsed": false,
    "ExecuteTime": {
     "end_time": "2024-03-28T16:52:47.128812Z",
     "start_time": "2024-03-28T16:52:47.123920Z"
    }
   },
   "id": "7f7d6526a4df6ac2",
   "execution_count": 22
  },
  {
   "cell_type": "code",
   "outputs": [
    {
     "data": {
      "text/plain": "allergens                       \nenergy-kcal_100g        8.365201\nenergy-from-fat_100g            \nfat_100g                      24\nsaturated-fat_100g            13\n                          ...   \ncholine_100g                    \nphylloquinone_100g              \nbeta-glucan_100g                \ninositol_100g                   \ncarnitine_100g                  \nName: 0, Length: 110, dtype: object"
     },
     "execution_count": 9,
     "metadata": {},
     "output_type": "execute_result"
    }
   ],
   "source": [
    "# Replace 'your_row_index' with the actual row index you want to extract\n",
    "row_index = 0\n",
    "\n",
    "# Extract nutrient values for the specified row\n",
    "nutrient_values = data_columns_cleaned.loc[row_index, ['allergens'] + list(data_columns_cleaned.loc[row_index, 'energy-kcal_100g':].index)]\n",
    "\n",
    "# Display the extracted nutrient values\n",
    "nutrient_values"
   ],
   "metadata": {
    "collapsed": false,
    "ExecuteTime": {
     "end_time": "2024-03-28T16:18:29.162275Z",
     "start_time": "2024-03-28T16:18:29.149579Z"
    }
   },
   "id": "bc984c7b0d6d9f07",
   "execution_count": 9
  },
  {
   "cell_type": "code",
   "outputs": [],
   "source": [
    "ingredient_group = [\"sugars_100g\", \"fat_100g\", \"fiber_100g\", \"proteins_100g\"]\n",
    "negative_ingredients = [\"saturated-fat_100g\", \"trans-fat_100g\", \"cholesterol_100g\", \"sugars_100g\", \"-insoluble-fiber_100g\", \"salt_100g\", \"sodium_100g\", \"alcohol_100g\", \"caffeine_100g\"]"
   ],
   "metadata": {
    "collapsed": false,
    "ExecuteTime": {
     "end_time": "2024-03-28T16:18:36.067478Z",
     "start_time": "2024-03-28T16:18:36.062464Z"
    }
   },
   "id": "766dab0d654cb3c1",
   "execution_count": 11
  },
  {
   "cell_type": "code",
   "outputs": [],
   "source": [
    "def calculate_nutritional_score(values, max_calories):\n",
    "    total_score = 0\n",
    "    total_possible_score = 0\n",
    "    total_calories = nutrient_values.get(\"energy-kcal_100g\", 0)\n",
    "    allergen_ingredients = nutrient_values.get(\"allergens\")\n",
    "    # Define recommended values for each nutrient (converted to grams for consistency)\n",
    "    recommended_values = {\n",
    "        \"vitamin-a_100g\": 0.0004, \n",
    "        \"vitamin-d_100g\": 0.0000038,  \n",
    "        \"vitamin-e_100g\": 0.009,\n",
    "        \"vitamin-k_100g\": 0.00000041,\n",
    "        \"vitamin-b1_100g\": 0.00000056, \n",
    "        \"vitamin-b2_100g\": 0.0000013, \n",
    "        \"vitamin-b6_100g\": 0.0000004,  \n",
    "        \"vitamin-b3_100g\": 0.000004,\n",
    "        \"pantothenic-acid_100g\": 0.000004, \n",
    "        \"vitamin-b12_100g\": 0.000000009, \n",
    "        \"folates_100g\": 0.000000068, \n",
    "        \"choline_100g\": 0.425,\n",
    "        \"calcium_100g\": 0.001, \n",
    "        \"phosphorus_100g\": 0.00075, \n",
    "        \"magnesium_100g\": 0.00015, \n",
    "        \"proteins_100g\": 26,\n",
    "        \"fat_100g\": 15,\n",
    "        \"sodium_100g\": 0.0002,\n",
    "        \"potassium_100g\": 0.001,\n",
    "        \"chloride_100g\": 0.0003, \n",
    "        \"iron_100g\": 0.0075,\n",
    "        \"copper_100g\": 0.0015, \n",
    "        \"zinc_100g\": 0.015, \n",
    "        \"manganese_100g\": 0.0012,\n",
    "        \"selenium_100g\": 0.00000009,\n",
    "        \"iodine_100g\": 0.00000022,  \n",
    "        \"fiber_100g\": 11,\n",
    "        \"carbohydrates_100g\":125,\n",
    "    }\n",
    "    if allergen_ingredients in allergens_names:\n",
    "        return \"Food not suitable for pet!\"\n",
    "    # Calculate the caloric percentage\n",
    "    if total_calories != '':\n",
    "        caloric_percentage = (float(total_calories) / max_calories) * 100 if max_calories > 0 else 0\n",
    "        print(\"Caloric Percentage:\", caloric_percentage)\n",
    "\n",
    "    # Nutrients present in the food\n",
    "    present_nutrients = []\n",
    "    total_volume = 0\n",
    "    points = 0\n",
    "    # Iterate through each nutrient\n",
    "    for nutrient, value in nutrient_values.items():\n",
    "        if value != \"\":\n",
    "            if nutrient in recommended_values:\n",
    "                # Calculate the percentage of recommended value\n",
    "                percentage = (float(value) / float(recommended_values[nutrient])) * 100\n",
    "                # Update the total_possible_score based on the percentage\n",
    "                total_possible_score += percentage\n",
    "\n",
    "                # Check for penalties if the value exceeds the recommended value\n",
    "                if percentage > 100:\n",
    "                    penalty_percentage = min(percentage - 100, 50)  # Maximum penalty of 50%\n",
    "                    total_score -= penalty_percentage\n",
    "                    points -= 0.5 #penalty for nutriscore\n",
    "\n",
    "                # Update the total_score based on the percentage\n",
    "                total_score += min(percentage, 100)  # Cap the score at 100%     \n",
    "            total_volume += float(value)\n",
    "            present_nutrients.append(nutrient)\n",
    "\n",
    "    # Calculate the final score as a percentage of filled nutritional needs\n",
    "    final_score = (total_score / total_possible_score) * 100 if total_possible_score > 0 else 0\n",
    "    \n",
    "    for nutrient, value in nutrient_values.items():\n",
    "        if value != '':\n",
    "            if nutrient in negative_ingredients:\n",
    "                points -= round((float(value)/total_volume)*10)\n",
    "            else:\n",
    "                points += round((float(value)/total_volume)*10)\n",
    "                \n",
    "    print(\"Nutrients Present in the Food:\", present_nutrients)\n",
    "    nutriscore = \"\"\n",
    "    \n",
    "    if points <= -6:\n",
    "        nutriscore = \"E\"\n",
    "    elif points <= -2:\n",
    "        nutriscore = \"D\"\n",
    "    elif points <= 2:\n",
    "        nutriscore = \"C\"\n",
    "    elif points <= 6:\n",
    "        nutriscore = \"B\"\n",
    "    else:\n",
    "        nutriscore = \"A\"\n",
    "        \n",
    "    return final_score, nutriscore\n",
    "\n",
    "# Calculate the nutritional score\n",
    "scores = calculate_nutritional_score(nutrient_values, 950)\n",
    "\n",
    "print(\"% of Filled Nutritional Needs:\", scores[0])\n",
    "print(\"Nutri-score:\", scores[1])"
   ],
   "metadata": {
    "collapsed": false,
    "ExecuteTime": {
     "end_time": "2024-03-28T16:22:27.424721Z",
     "start_time": "2024-03-28T16:22:27.409744Z"
    }
   },
   "id": "d639a271f78b307d",
   "execution_count": 16
  },
  {
   "cell_type": "code",
   "outputs": [
    {
     "name": "stdout",
     "output_type": "stream",
     "text": [
      " * Serving Flask app '__main__'\n",
      " * Debug mode: on\n"
     ]
    },
    {
     "name": "stderr",
     "output_type": "stream",
     "text": [
      "WARNING: This is a development server. Do not use it in a production deployment. Use a production WSGI server instead.\n",
      " * Running on http://127.0.0.1:5000\n",
      "Press CTRL+C to quit\n",
      " * Restarting with watchdog (fsevents)\n",
      "Traceback (most recent call last):\n",
      "  File \"/Users/katvanveen/anaconda3/lib/python3.11/site-packages/ipykernel_launcher.py\", line 15, in <module>\n",
      "    from ipykernel import kernelapp as app\n",
      "  File \"/Users/katvanveen/anaconda3/lib/python3.11/site-packages/ipykernel/__init__.py\", line 7, in <module>\n",
      "    from .connect import *\n",
      "  File \"/Users/katvanveen/anaconda3/lib/python3.11/site-packages/ipykernel/connect.py\", line 12, in <module>\n",
      "    import jupyter_client\n",
      "  File \"/Users/katvanveen/anaconda3/lib/python3.11/site-packages/jupyter_client/__init__.py\", line 3, in <module>\n",
      "    from .asynchronous import AsyncKernelClient\n",
      "  File \"/Users/katvanveen/anaconda3/lib/python3.11/site-packages/jupyter_client/asynchronous/__init__.py\", line 1, in <module>\n",
      "    from .client import AsyncKernelClient  # noqa\n",
      "    ^^^^^^^^^^^^^^^^^^^^^^^^^^^^^^^^^^^^^\n",
      "  File \"/Users/katvanveen/anaconda3/lib/python3.11/site-packages/jupyter_client/asynchronous/client.py\", line 11, in <module>\n",
      "    from ..channels import AsyncZMQSocketChannel, HBChannel\n",
      "  File \"/Users/katvanveen/anaconda3/lib/python3.11/site-packages/jupyter_client/channels.py\", line 12, in <module>\n",
      "    from jupyter_core.utils import ensure_async\n",
      "  File \"/Users/katvanveen/anaconda3/lib/python3.11/site-packages/jupyter_core/utils/__init__.py\", line 13, in <module>\n",
      "    from pathlib import Path\n",
      "  File \"/Users/katvanveen/anaconda3/lib/python3.11/site-packages/pathlib.py\", line 10, in <module>\n",
      "    from collections import Sequence\n",
      "ImportError: cannot import name 'Sequence' from 'collections' (/Users/katvanveen/anaconda3/lib/python3.11/collections/__init__.py)\n"
     ]
    },
    {
     "ename": "SystemExit",
     "evalue": "1",
     "output_type": "error",
     "traceback": [
      "An exception has occurred, use %tb to see the full traceback.\n",
      "\u001B[0;31mSystemExit\u001B[0m\u001B[0;31m:\u001B[0m 1\n"
     ]
    },
    {
     "name": "stderr",
     "output_type": "stream",
     "text": [
      "/Users/katvanveen/anaconda3/lib/python3.11/site-packages/IPython/core/interactiveshell.py:3561: UserWarning: To exit: use 'exit', 'quit', or Ctrl-D.\n",
      "  warn(\"To exit: use 'exit', 'quit', or Ctrl-D.\", stacklevel=1)\n"
     ]
    }
   ],
   "source": [
    "from flask import Flask, render_template, request, jsonify\n",
    "from main import calculate_nutritional_score\n",
    "\n",
    "app = Flask(__name__)\n",
    "\n",
    "@app.route('/')\n",
    "def index():\n",
    "    return render_template('home.html')\n",
    "\n",
    "@app.route('/calculate-score', methods=['POST'])\n",
    "def calculate_score():\n",
    "    nutrient_values = request.form.to_dict()\n",
    "    score, nutriscore = calculate_nutritional_score(nutrient_values, 950)\n",
    "    return jsonify({'score': score, 'nutriscore': nutriscore})\n",
    "\n",
    "if __name__ == '__main__':"
   ],
   "metadata": {
    "collapsed": false,
    "ExecuteTime": {
     "end_time": "2024-03-28T16:21:19.490692Z",
     "start_time": "2024-03-28T16:21:19.086524Z"
    }
   },
   "id": "a6cf4c53593f04a9",
   "execution_count": 13
  }
 ],
 "metadata": {
  "kernelspec": {
   "display_name": "Python 3",
   "language": "python",
   "name": "python3"
  },
  "language_info": {
   "codemirror_mode": {
    "name": "ipython",
    "version": 2
   },
   "file_extension": ".py",
   "mimetype": "text/x-python",
   "name": "python",
   "nbconvert_exporter": "python",
   "pygments_lexer": "ipython2",
   "version": "2.7.6"
  }
 },
 "nbformat": 4,
 "nbformat_minor": 5
}
